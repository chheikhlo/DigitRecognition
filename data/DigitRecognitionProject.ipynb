{
  "nbformat": 4,
  "nbformat_minor": 0,
  "metadata": {
    "colab": {
      "provenance": [],
      "gpuType": "V28"
    },
    "kernelspec": {
      "name": "ir",
      "display_name": "R"
    },
    "language_info": {
      "name": "R"
    },
    "accelerator": "TPU"
  },
  "cells": [
    {
      "cell_type": "code",
      "execution_count": null,
      "metadata": {
        "colab": {
          "base_uri": "https://localhost:8080/"
        },
        "id": "r_KeONlWfLX9",
        "outputId": "377232fc-43f7-418f-aebb-84ba2c149727"
      },
      "outputs": [
        {
          "output_type": "stream",
          "name": "stderr",
          "text": [
            "\u001b[1m\u001b[22mIs it OK to cache OAuth access credentials in the folder \u001b[34m~/.cache/gargle\u001b[39m\n",
            "between R sessions?\n",
            "\u001b[1m1\u001b[22m: Yes\n",
            "\u001b[1m2\u001b[22m: No\n"
          ]
        },
        {
          "name": "stdout",
          "output_type": "stream",
          "text": [
            "Selection: 1\n"
          ]
        },
        {
          "output_type": "stream",
          "name": "stderr",
          "text": [
            "Please point your browser to the following url: \n",
            "\n",
            "https://accounts.google.com/o/oauth2/v2/auth?client_id=603366585132-frjlouoa3s2ono25d2l9ukvhlsrlnr7k.apps.googleusercontent.com&scope=https%3A%2F%2Fwww.googleapis.com%2Fauth%2Fdrive%20https%3A%2F%2Fwww.googleapis.com%2Fauth%2Fuserinfo.email&redirect_uri=https%3A%2F%2Fwww.tidyverse.org%2Fgoogle-callback%2F&response_type=code&state=375195369ce72f8105c49ca917fbb4a3&access_type=offline&prompt=consent\n",
            "\n"
          ]
        },
        {
          "name": "stdout",
          "output_type": "stream",
          "text": [
            "Enter authorization code: eyJjb2RlIjoiNC8wQVFsRWQ4d2ozUUF5ZVJoV0x4OUlsTVNNY2ZmS3lvRnRiekdDanhnMERnSDI5TDZMNXZUT1c5blJkMlhKN25TNFFUNTJWdyIsInN0YXRlIjoiMzc1MTk1MzY5Y2U3MmY4MTA1YzQ5Y2E5MTdmYmI0YTMifQ==\n"
          ]
        }
      ],
      "source": [
        "# Charger la bibliothèque Google Drive pour accéder à tes fichiers\n",
        "library(googledrive)\n",
        "\n",
        "# Monter ton Google Drive\n",
        "drive_auth()\n"
      ]
    },
    {
      "cell_type": "code",
      "source": [
        "# Charger les données\n",
        "train <- read.csv(\"/content/sample_data/train.csv\")\n",
        "test <- read.csv(\"/content/sample_data/test.csv\")\n",
        "\n",
        "# Vérification des données\n",
        "str(train)\n"
      ],
      "metadata": {
        "colab": {
          "base_uri": "https://localhost:8080/"
        },
        "id": "wRrd8vh2fgoq",
        "outputId": "d7864c73-947c-424f-8aa8-0cfce81318f5"
      },
      "execution_count": null,
      "outputs": [
        {
          "output_type": "stream",
          "name": "stdout",
          "text": [
            "'data.frame':\t42000 obs. of  785 variables:\n",
            " $ label   : int  1 0 1 4 0 0 7 3 5 3 ...\n",
            " $ pixel0  : int  0 0 0 0 0 0 0 0 0 0 ...\n",
            " $ pixel1  : int  0 0 0 0 0 0 0 0 0 0 ...\n",
            " $ pixel2  : int  0 0 0 0 0 0 0 0 0 0 ...\n",
            " $ pixel3  : int  0 0 0 0 0 0 0 0 0 0 ...\n",
            " $ pixel4  : int  0 0 0 0 0 0 0 0 0 0 ...\n",
            " $ pixel5  : int  0 0 0 0 0 0 0 0 0 0 ...\n",
            " $ pixel6  : int  0 0 0 0 0 0 0 0 0 0 ...\n",
            " $ pixel7  : int  0 0 0 0 0 0 0 0 0 0 ...\n",
            " $ pixel8  : int  0 0 0 0 0 0 0 0 0 0 ...\n",
            " $ pixel9  : int  0 0 0 0 0 0 0 0 0 0 ...\n",
            " $ pixel10 : int  0 0 0 0 0 0 0 0 0 0 ...\n",
            " $ pixel11 : int  0 0 0 0 0 0 0 0 0 0 ...\n",
            " $ pixel12 : int  0 0 0 0 0 0 0 0 0 0 ...\n",
            " $ pixel13 : int  0 0 0 0 0 0 0 0 0 0 ...\n",
            " $ pixel14 : int  0 0 0 0 0 0 0 0 0 0 ...\n",
            " $ pixel15 : int  0 0 0 0 0 0 0 0 0 0 ...\n",
            " $ pixel16 : int  0 0 0 0 0 0 0 0 0 0 ...\n",
            " $ pixel17 : int  0 0 0 0 0 0 0 0 0 0 ...\n",
            " $ pixel18 : int  0 0 0 0 0 0 0 0 0 0 ...\n",
            " $ pixel19 : int  0 0 0 0 0 0 0 0 0 0 ...\n",
            " $ pixel20 : int  0 0 0 0 0 0 0 0 0 0 ...\n",
            " $ pixel21 : int  0 0 0 0 0 0 0 0 0 0 ...\n",
            " $ pixel22 : int  0 0 0 0 0 0 0 0 0 0 ...\n",
            " $ pixel23 : int  0 0 0 0 0 0 0 0 0 0 ...\n",
            " $ pixel24 : int  0 0 0 0 0 0 0 0 0 0 ...\n",
            " $ pixel25 : int  0 0 0 0 0 0 0 0 0 0 ...\n",
            " $ pixel26 : int  0 0 0 0 0 0 0 0 0 0 ...\n",
            " $ pixel27 : int  0 0 0 0 0 0 0 0 0 0 ...\n",
            " $ pixel28 : int  0 0 0 0 0 0 0 0 0 0 ...\n",
            " $ pixel29 : int  0 0 0 0 0 0 0 0 0 0 ...\n",
            " $ pixel30 : int  0 0 0 0 0 0 0 0 0 0 ...\n",
            " $ pixel31 : int  0 0 0 0 0 0 0 0 0 0 ...\n",
            " $ pixel32 : int  0 0 0 0 0 0 0 0 0 0 ...\n",
            " $ pixel33 : int  0 0 0 0 0 0 0 0 0 0 ...\n",
            " $ pixel34 : int  0 0 0 0 0 0 0 0 0 0 ...\n",
            " $ pixel35 : int  0 0 0 0 0 0 0 0 0 0 ...\n",
            " $ pixel36 : int  0 0 0 0 0 0 0 0 0 0 ...\n",
            " $ pixel37 : int  0 0 0 0 0 0 0 0 0 0 ...\n",
            " $ pixel38 : int  0 0 0 0 0 0 0 0 0 0 ...\n",
            " $ pixel39 : int  0 0 0 0 0 0 0 0 0 0 ...\n",
            " $ pixel40 : int  0 0 0 0 0 0 0 0 0 0 ...\n",
            " $ pixel41 : int  0 0 0 0 0 0 0 0 0 0 ...\n",
            " $ pixel42 : int  0 0 0 0 0 0 0 0 0 0 ...\n",
            " $ pixel43 : int  0 0 0 0 0 0 0 0 0 0 ...\n",
            " $ pixel44 : int  0 0 0 0 0 0 0 0 0 0 ...\n",
            " $ pixel45 : int  0 0 0 0 0 0 0 0 0 0 ...\n",
            " $ pixel46 : int  0 0 0 0 0 0 0 0 0 0 ...\n",
            " $ pixel47 : int  0 0 0 0 0 0 0 0 0 0 ...\n",
            " $ pixel48 : int  0 0 0 0 0 0 0 0 0 0 ...\n",
            " $ pixel49 : int  0 0 0 0 0 0 0 0 0 0 ...\n",
            " $ pixel50 : int  0 0 0 0 0 0 0 0 0 0 ...\n",
            " $ pixel51 : int  0 0 0 0 0 0 0 0 0 0 ...\n",
            " $ pixel52 : int  0 0 0 0 0 0 0 0 0 0 ...\n",
            " $ pixel53 : int  0 0 0 0 0 0 0 0 0 0 ...\n",
            " $ pixel54 : int  0 0 0 0 0 0 0 0 0 0 ...\n",
            " $ pixel55 : int  0 0 0 0 0 0 0 0 0 0 ...\n",
            " $ pixel56 : int  0 0 0 0 0 0 0 0 0 0 ...\n",
            " $ pixel57 : int  0 0 0 0 0 0 0 0 0 0 ...\n",
            " $ pixel58 : int  0 0 0 0 0 0 0 0 0 0 ...\n",
            " $ pixel59 : int  0 0 0 0 0 0 0 0 0 0 ...\n",
            " $ pixel60 : int  0 0 0 0 0 0 0 0 0 0 ...\n",
            " $ pixel61 : int  0 0 0 0 0 0 0 0 0 0 ...\n",
            " $ pixel62 : int  0 0 0 0 0 0 0 0 0 0 ...\n",
            " $ pixel63 : int  0 0 0 0 0 0 0 0 0 0 ...\n",
            " $ pixel64 : int  0 0 0 0 0 0 0 0 0 0 ...\n",
            " $ pixel65 : int  0 0 0 0 0 0 0 0 0 0 ...\n",
            " $ pixel66 : int  0 0 0 0 0 0 0 0 0 0 ...\n",
            " $ pixel67 : int  0 0 0 0 0 0 0 0 0 0 ...\n",
            " $ pixel68 : int  0 0 0 0 0 0 0 0 0 0 ...\n",
            " $ pixel69 : int  0 0 0 0 0 0 0 0 0 0 ...\n",
            " $ pixel70 : int  0 0 0 0 0 0 0 0 0 0 ...\n",
            " $ pixel71 : int  0 0 0 0 0 0 0 0 0 0 ...\n",
            " $ pixel72 : int  0 0 0 0 0 0 0 0 0 0 ...\n",
            " $ pixel73 : int  0 0 0 0 0 0 0 0 0 0 ...\n",
            " $ pixel74 : int  0 0 0 0 0 0 0 0 0 0 ...\n",
            " $ pixel75 : int  0 0 0 0 0 0 0 0 0 0 ...\n",
            " $ pixel76 : int  0 0 0 0 0 0 0 0 0 0 ...\n",
            " $ pixel77 : int  0 0 0 0 0 0 0 0 0 0 ...\n",
            " $ pixel78 : int  0 0 0 0 0 0 0 0 0 0 ...\n",
            " $ pixel79 : int  0 0 0 0 0 0 0 0 0 0 ...\n",
            " $ pixel80 : int  0 0 0 0 0 0 0 0 0 0 ...\n",
            " $ pixel81 : int  0 0 0 0 0 0 0 0 0 0 ...\n",
            " $ pixel82 : int  0 0 0 0 0 0 0 0 0 0 ...\n",
            " $ pixel83 : int  0 0 0 0 0 0 0 0 0 0 ...\n",
            " $ pixel84 : int  0 0 0 0 0 0 0 0 0 0 ...\n",
            " $ pixel85 : int  0 0 0 0 0 0 0 0 0 0 ...\n",
            " $ pixel86 : int  0 0 0 0 0 0 0 0 0 0 ...\n",
            " $ pixel87 : int  0 0 0 0 0 0 0 0 0 0 ...\n",
            " $ pixel88 : int  0 0 0 0 0 0 0 0 0 0 ...\n",
            " $ pixel89 : int  0 0 0 0 0 0 0 0 0 0 ...\n",
            " $ pixel90 : int  0 0 0 0 0 0 0 0 0 0 ...\n",
            " $ pixel91 : int  0 0 0 0 0 0 0 0 0 0 ...\n",
            " $ pixel92 : int  0 0 0 0 0 0 0 0 0 0 ...\n",
            " $ pixel93 : int  0 0 0 0 0 0 0 0 0 0 ...\n",
            " $ pixel94 : int  0 0 0 0 0 0 0 0 0 0 ...\n",
            " $ pixel95 : int  0 0 0 0 0 0 0 0 0 0 ...\n",
            " $ pixel96 : int  0 0 0 0 0 0 0 0 0 0 ...\n",
            " $ pixel97 : int  0 0 0 0 0 0 0 0 0 0 ...\n",
            "  [list output truncated]\n"
          ]
        }
      ]
    },
    {
      "cell_type": "code",
      "source": [
        "head(train)"
      ],
      "metadata": {
        "colab": {
          "base_uri": "https://localhost:8080/",
          "height": 306
        },
        "id": "DyrXnd9ugudW",
        "outputId": "b90d13bb-7195-4598-d7b7-ee5fa8410978"
      },
      "execution_count": null,
      "outputs": [
        {
          "output_type": "display_data",
          "data": {
            "text/html": [
              "<table class=\"dataframe\">\n",
              "<caption>A data.frame: 6 × 785</caption>\n",
              "<thead>\n",
              "\t<tr><th></th><th scope=col>label</th><th scope=col>pixel0</th><th scope=col>pixel1</th><th scope=col>pixel2</th><th scope=col>pixel3</th><th scope=col>pixel4</th><th scope=col>pixel5</th><th scope=col>pixel6</th><th scope=col>pixel7</th><th scope=col>pixel8</th><th scope=col>⋯</th><th scope=col>pixel774</th><th scope=col>pixel775</th><th scope=col>pixel776</th><th scope=col>pixel777</th><th scope=col>pixel778</th><th scope=col>pixel779</th><th scope=col>pixel780</th><th scope=col>pixel781</th><th scope=col>pixel782</th><th scope=col>pixel783</th></tr>\n",
              "\t<tr><th></th><th scope=col>&lt;int&gt;</th><th scope=col>&lt;int&gt;</th><th scope=col>&lt;int&gt;</th><th scope=col>&lt;int&gt;</th><th scope=col>&lt;int&gt;</th><th scope=col>&lt;int&gt;</th><th scope=col>&lt;int&gt;</th><th scope=col>&lt;int&gt;</th><th scope=col>&lt;int&gt;</th><th scope=col>&lt;int&gt;</th><th scope=col>⋯</th><th scope=col>&lt;int&gt;</th><th scope=col>&lt;int&gt;</th><th scope=col>&lt;int&gt;</th><th scope=col>&lt;int&gt;</th><th scope=col>&lt;int&gt;</th><th scope=col>&lt;int&gt;</th><th scope=col>&lt;int&gt;</th><th scope=col>&lt;int&gt;</th><th scope=col>&lt;int&gt;</th><th scope=col>&lt;int&gt;</th></tr>\n",
              "</thead>\n",
              "<tbody>\n",
              "\t<tr><th scope=row>1</th><td>1</td><td>0</td><td>0</td><td>0</td><td>0</td><td>0</td><td>0</td><td>0</td><td>0</td><td>0</td><td>⋯</td><td>0</td><td>0</td><td>0</td><td>0</td><td>0</td><td>0</td><td>0</td><td>0</td><td>0</td><td>0</td></tr>\n",
              "\t<tr><th scope=row>2</th><td>0</td><td>0</td><td>0</td><td>0</td><td>0</td><td>0</td><td>0</td><td>0</td><td>0</td><td>0</td><td>⋯</td><td>0</td><td>0</td><td>0</td><td>0</td><td>0</td><td>0</td><td>0</td><td>0</td><td>0</td><td>0</td></tr>\n",
              "\t<tr><th scope=row>3</th><td>1</td><td>0</td><td>0</td><td>0</td><td>0</td><td>0</td><td>0</td><td>0</td><td>0</td><td>0</td><td>⋯</td><td>0</td><td>0</td><td>0</td><td>0</td><td>0</td><td>0</td><td>0</td><td>0</td><td>0</td><td>0</td></tr>\n",
              "\t<tr><th scope=row>4</th><td>4</td><td>0</td><td>0</td><td>0</td><td>0</td><td>0</td><td>0</td><td>0</td><td>0</td><td>0</td><td>⋯</td><td>0</td><td>0</td><td>0</td><td>0</td><td>0</td><td>0</td><td>0</td><td>0</td><td>0</td><td>0</td></tr>\n",
              "\t<tr><th scope=row>5</th><td>0</td><td>0</td><td>0</td><td>0</td><td>0</td><td>0</td><td>0</td><td>0</td><td>0</td><td>0</td><td>⋯</td><td>0</td><td>0</td><td>0</td><td>0</td><td>0</td><td>0</td><td>0</td><td>0</td><td>0</td><td>0</td></tr>\n",
              "\t<tr><th scope=row>6</th><td>0</td><td>0</td><td>0</td><td>0</td><td>0</td><td>0</td><td>0</td><td>0</td><td>0</td><td>0</td><td>⋯</td><td>0</td><td>0</td><td>0</td><td>0</td><td>0</td><td>0</td><td>0</td><td>0</td><td>0</td><td>0</td></tr>\n",
              "</tbody>\n",
              "</table>\n"
            ],
            "text/markdown": "\nA data.frame: 6 × 785\n\n| <!--/--> | label &lt;int&gt; | pixel0 &lt;int&gt; | pixel1 &lt;int&gt; | pixel2 &lt;int&gt; | pixel3 &lt;int&gt; | pixel4 &lt;int&gt; | pixel5 &lt;int&gt; | pixel6 &lt;int&gt; | pixel7 &lt;int&gt; | pixel8 &lt;int&gt; | ⋯ ⋯ | pixel774 &lt;int&gt; | pixel775 &lt;int&gt; | pixel776 &lt;int&gt; | pixel777 &lt;int&gt; | pixel778 &lt;int&gt; | pixel779 &lt;int&gt; | pixel780 &lt;int&gt; | pixel781 &lt;int&gt; | pixel782 &lt;int&gt; | pixel783 &lt;int&gt; |\n|---|---|---|---|---|---|---|---|---|---|---|---|---|---|---|---|---|---|---|---|---|---|\n| 1 | 1 | 0 | 0 | 0 | 0 | 0 | 0 | 0 | 0 | 0 | ⋯ | 0 | 0 | 0 | 0 | 0 | 0 | 0 | 0 | 0 | 0 |\n| 2 | 0 | 0 | 0 | 0 | 0 | 0 | 0 | 0 | 0 | 0 | ⋯ | 0 | 0 | 0 | 0 | 0 | 0 | 0 | 0 | 0 | 0 |\n| 3 | 1 | 0 | 0 | 0 | 0 | 0 | 0 | 0 | 0 | 0 | ⋯ | 0 | 0 | 0 | 0 | 0 | 0 | 0 | 0 | 0 | 0 |\n| 4 | 4 | 0 | 0 | 0 | 0 | 0 | 0 | 0 | 0 | 0 | ⋯ | 0 | 0 | 0 | 0 | 0 | 0 | 0 | 0 | 0 | 0 |\n| 5 | 0 | 0 | 0 | 0 | 0 | 0 | 0 | 0 | 0 | 0 | ⋯ | 0 | 0 | 0 | 0 | 0 | 0 | 0 | 0 | 0 | 0 |\n| 6 | 0 | 0 | 0 | 0 | 0 | 0 | 0 | 0 | 0 | 0 | ⋯ | 0 | 0 | 0 | 0 | 0 | 0 | 0 | 0 | 0 | 0 |\n\n",
            "text/latex": "A data.frame: 6 × 785\n\\begin{tabular}{r|lllllllllllllllllllll}\n  & label & pixel0 & pixel1 & pixel2 & pixel3 & pixel4 & pixel5 & pixel6 & pixel7 & pixel8 & ⋯ & pixel774 & pixel775 & pixel776 & pixel777 & pixel778 & pixel779 & pixel780 & pixel781 & pixel782 & pixel783\\\\\n  & <int> & <int> & <int> & <int> & <int> & <int> & <int> & <int> & <int> & <int> & ⋯ & <int> & <int> & <int> & <int> & <int> & <int> & <int> & <int> & <int> & <int>\\\\\n\\hline\n\t1 & 1 & 0 & 0 & 0 & 0 & 0 & 0 & 0 & 0 & 0 & ⋯ & 0 & 0 & 0 & 0 & 0 & 0 & 0 & 0 & 0 & 0\\\\\n\t2 & 0 & 0 & 0 & 0 & 0 & 0 & 0 & 0 & 0 & 0 & ⋯ & 0 & 0 & 0 & 0 & 0 & 0 & 0 & 0 & 0 & 0\\\\\n\t3 & 1 & 0 & 0 & 0 & 0 & 0 & 0 & 0 & 0 & 0 & ⋯ & 0 & 0 & 0 & 0 & 0 & 0 & 0 & 0 & 0 & 0\\\\\n\t4 & 4 & 0 & 0 & 0 & 0 & 0 & 0 & 0 & 0 & 0 & ⋯ & 0 & 0 & 0 & 0 & 0 & 0 & 0 & 0 & 0 & 0\\\\\n\t5 & 0 & 0 & 0 & 0 & 0 & 0 & 0 & 0 & 0 & 0 & ⋯ & 0 & 0 & 0 & 0 & 0 & 0 & 0 & 0 & 0 & 0\\\\\n\t6 & 0 & 0 & 0 & 0 & 0 & 0 & 0 & 0 & 0 & 0 & ⋯ & 0 & 0 & 0 & 0 & 0 & 0 & 0 & 0 & 0 & 0\\\\\n\\end{tabular}\n",
            "text/plain": [
              "  label pixel0 pixel1 pixel2 pixel3 pixel4 pixel5 pixel6 pixel7 pixel8 ⋯\n",
              "1 1     0      0      0      0      0      0      0      0      0      ⋯\n",
              "2 0     0      0      0      0      0      0      0      0      0      ⋯\n",
              "3 1     0      0      0      0      0      0      0      0      0      ⋯\n",
              "4 4     0      0      0      0      0      0      0      0      0      ⋯\n",
              "5 0     0      0      0      0      0      0      0      0      0      ⋯\n",
              "6 0     0      0      0      0      0      0      0      0      0      ⋯\n",
              "  pixel774 pixel775 pixel776 pixel777 pixel778 pixel779 pixel780 pixel781\n",
              "1 0        0        0        0        0        0        0        0       \n",
              "2 0        0        0        0        0        0        0        0       \n",
              "3 0        0        0        0        0        0        0        0       \n",
              "4 0        0        0        0        0        0        0        0       \n",
              "5 0        0        0        0        0        0        0        0       \n",
              "6 0        0        0        0        0        0        0        0       \n",
              "  pixel782 pixel783\n",
              "1 0        0       \n",
              "2 0        0       \n",
              "3 0        0       \n",
              "4 0        0       \n",
              "5 0        0       \n",
              "6 0        0       "
            ]
          },
          "metadata": {}
        }
      ]
    },
    {
      "cell_type": "code",
      "source": [
        "#install.packages(\"randomForest\")\n",
        "#install.packages(\"caret\")\n",
        "#install.packages(\"e1071\")\n",
        "#install.packages(\"data.table\")"
      ],
      "metadata": {
        "colab": {
          "base_uri": "https://localhost:8080/"
        },
        "id": "N0kWbhJmhiQq",
        "outputId": "a47fb1c8-4f76-41b4-bc07-e6db50ee7eaf"
      },
      "execution_count": null,
      "outputs": [
        {
          "output_type": "stream",
          "name": "stderr",
          "text": [
            "Installing package into ‘/usr/local/lib/R/site-library’\n",
            "(as ‘lib’ is unspecified)\n",
            "\n"
          ]
        }
      ]
    },
    {
      "cell_type": "code",
      "source": [
        "# Sépareration des features (X) et label (y)\n",
        "X <- as.matrix(train[, -1])\n",
        "y <- as.factor(train$label)\n",
        "\n"
      ],
      "metadata": {
        "id": "EzjY9_EEhDZ1"
      },
      "execution_count": null,
      "outputs": []
    },
    {
      "cell_type": "code",
      "source": [
        "# Normalisation des pixels (0 - 1)\n",
        "X <- X / 255.0\n",
        "test <- as.matrix(test) / 255.0"
      ],
      "metadata": {
        "id": "wZO22MRJlhuG"
      },
      "execution_count": null,
      "outputs": []
    },
    {
      "cell_type": "code",
      "source": [
        "library(caret)\n",
        "\n",
        "# Sépareration des données pour l'entraînement et la validation\n",
        "set.seed(42)\n",
        "trainIndex <- createDataPartition(y, p = 0.8, list = FALSE)\n",
        "X_train <- X[trainIndex, ]\n",
        "X_val <- X[-trainIndex, ]\n",
        "y_train <- y[trainIndex]\n",
        "y_val <- y[-trainIndex]\n"
      ],
      "metadata": {
        "colab": {
          "base_uri": "https://localhost:8080/"
        },
        "id": "zDadHtVElj0e",
        "outputId": "5635a6c9-4dc6-4368-c86c-dc728dd6430d"
      },
      "execution_count": null,
      "outputs": [
        {
          "output_type": "stream",
          "name": "stderr",
          "text": [
            "Loading required package: ggplot2\n",
            "\n",
            "Loading required package: lattice\n",
            "\n"
          ]
        }
      ]
    },
    {
      "cell_type": "code",
      "source": [
        "# Aplatir les images pour les modèles traditionnels\n",
        "X_train_flat <- X_train\n",
        "X_val_flat <- X_val\n",
        "test_flat <- test"
      ],
      "metadata": {
        "id": "147pkFggmGNZ"
      },
      "execution_count": null,
      "outputs": []
    },
    {
      "cell_type": "code",
      "source": [
        "# Decision Tree\n",
        "library(rpart)\n",
        "dt_model <- rpart(y_train ~ ., data = as.data.frame(X_train_flat), method = \"class\")\n",
        "y_val_pred_dt <- predict(dt_model, as.data.frame(X_val_flat), type = \"class\")\n",
        "dt_accuracy <- mean(y_val_pred_dt == y_val)\n",
        "cat(\"Decision Tree Validation Accuracy:\", dt_accuracy, \"\\n\")"
      ],
      "metadata": {
        "colab": {
          "base_uri": "https://localhost:8080/"
        },
        "id": "DoP0Ffc8mIMn",
        "outputId": "c0ed4dec-aaa8-4e77-c6e3-9b7f24a43473"
      },
      "execution_count": null,
      "outputs": [
        {
          "output_type": "stream",
          "name": "stdout",
          "text": [
            "Decision Tree Validation Accuracy: 0.6293473 \n"
          ]
        }
      ]
    },
    {
      "cell_type": "code",
      "source": [
        "# Random Forest\n",
        "library(randomForest)\n",
        "rf_model <- randomForest(x = X_train_flat, y = y_train, ntree = 100)\n",
        "y_val_pred_rf <- predict(rf_model, X_val_flat)\n",
        "rf_accuracy <- mean(y_val_pred_rf == y_val)\n",
        "cat(\"Random Forest Validation Accuracy:\", rf_accuracy, \"\\n\")"
      ],
      "metadata": {
        "colab": {
          "base_uri": "https://localhost:8080/"
        },
        "id": "N3iC6gG-m9uP",
        "outputId": "61cfefaa-8c03-4b51-e7b6-138a63ffb9a6"
      },
      "execution_count": null,
      "outputs": [
        {
          "output_type": "stream",
          "name": "stderr",
          "text": [
            "randomForest 4.7-1.2\n",
            "\n",
            "Type rfNews() to see new features/changes/bug fixes.\n",
            "\n",
            "\n",
            "Attaching package: ‘randomForest’\n",
            "\n",
            "\n",
            "The following object is masked from ‘package:ggplot2’:\n",
            "\n",
            "    margin\n",
            "\n",
            "\n"
          ]
        },
        {
          "output_type": "stream",
          "name": "stdout",
          "text": [
            "Random Forest Validation Accuracy: 0.9659362 \n"
          ]
        }
      ]
    },
    {
      "cell_type": "code",
      "source": [
        "# Support Vector Machine (SVM)\n",
        "library(e1071)\n",
        "svm_model <- svm(X_train_flat, y_train, kernel = \"linear\")\n",
        "y_val_pred_svm <- predict(svm_model, X_val_flat)\n",
        "svm_accuracy <- mean(y_val_pred_svm == y_val)\n",
        "cat(\"SVM Validation Accuracy:\", svm_accuracy, \"\\n\")"
      ],
      "metadata": {
        "colab": {
          "base_uri": "https://localhost:8080/"
        },
        "id": "4X0yBh8pnxO5",
        "outputId": "2fb460c5-9ad6-4352-83dc-aa8a52b53003"
      },
      "execution_count": null,
      "outputs": [
        {
          "output_type": "stream",
          "name": "stderr",
          "text": [
            "Warning message in svm.default(X_train_flat, y_train, kernel = \"linear\"):\n",
            "“Variable(s) ‘pixel0’ and ‘pixel1’ and ‘pixel2’ and ‘pixel3’ and ‘pixel4’ and ‘pixel5’ and ‘pixel6’ and ‘pixel7’ and ‘pixel8’ and ‘pixel9’ and ‘pixel10’ and ‘pixel11’ and ‘pixel16’ and ‘pixel17’ and ‘pixel18’ and ‘pixel19’ and ‘pixel20’ and ‘pixel21’ and ‘pixel22’ and ‘pixel23’ and ‘pixel24’ and ‘pixel25’ and ‘pixel26’ and ‘pixel27’ and ‘pixel28’ and ‘pixel29’ and ‘pixel30’ and ‘pixel31’ and ‘pixel32’ and ‘pixel33’ and ‘pixel52’ and ‘pixel53’ and ‘pixel54’ and ‘pixel55’ and ‘pixel56’ and ‘pixel57’ and ‘pixel82’ and ‘pixel83’ and ‘pixel84’ and ‘pixel85’ and ‘pixel111’ and ‘pixel112’ and ‘pixel139’ and ‘pixel140’ and ‘pixel141’ and ‘pixel168’ and ‘pixel196’ and ‘pixel364’ and ‘pixel392’ and ‘pixel420’ and ‘pixel421’ and ‘pixel448’ and ‘pixel476’ and ‘pixel532’ and ‘pixel560’ and ‘pixel644’ and ‘pixel645’ and ‘pixel671’ and ‘pixel672’ and ‘pixel673’ and ‘pixel699’ and ‘pixel700’ and ‘pixel701’ and ‘pixel727’ and ‘pixel728’ and ‘pixel729’ and ‘pixel730’ and ‘pixel731’ and ‘pixel754’ and ‘pixel755’ and ‘pixel756’ and ‘pixel757’ and ‘pixel758’ and ‘pixel759’ and ‘pixel760’ and ‘pixel780’ and ‘pixel781’ and ‘pixel782’ and ‘pixel783’ constant. Cannot scale data.”\n"
          ]
        },
        {
          "output_type": "stream",
          "name": "stdout",
          "text": [
            "SVM Validation Accuracy: 0.9354455 \n"
          ]
        }
      ]
    },
    {
      "cell_type": "code",
      "source": [
        "# Comparaison des performances\n",
        "model_accuracies <- c(\"Decision Tree\" = dt_accuracy,\n",
        "                      \"Random Forest\" = rf_accuracy,\n",
        "                      \"SVM\" = svm_accuracy)\n",
        "\n",
        "best_model_name <- names(which.max(model_accuracies))\n",
        "best_model_accuracy <- max(model_accuracies)\n",
        "\n",
        "cat(\"Meilleur modèle:\", best_model_name, \"avec accuracy\", best_model_accuracy, \"\\n\")"
      ],
      "metadata": {
        "colab": {
          "base_uri": "https://localhost:8080/"
        },
        "id": "9MqwaNDYr8j1",
        "outputId": "db2e296e-ebef-4b83-f748-91bb236965fa"
      },
      "execution_count": null,
      "outputs": [
        {
          "output_type": "stream",
          "name": "stdout",
          "text": [
            "Meilleur modèle: Random Forest avec accuracy 0.9659362 \n"
          ]
        }
      ]
    },
    {
      "cell_type": "code",
      "source": [
        "# Sauvegarder le meilleur modèle\n",
        "if (best_model_name == \"Decision Tree\") {\n",
        "    best_model <- dt_model\n",
        "} else if (best_model_name == \"Random Forest\") {\n",
        "    best_model <- rf_model\n",
        "} else if (best_model_name == \"SVM\") {\n",
        "    best_model <- svm_model\n",
        "}\n",
        "\n",
        "# Sauvegarder le modèle avec saveRDS\n",
        "saveRDS(best_model, \"best_digit_recognition_model.rds\")\n",
        "cat(\"Meilleur modèle\", best_model_name, \"enregistré comme 'best_digit_recognition_model.rds'.\\n\")"
      ],
      "metadata": {
        "colab": {
          "base_uri": "https://localhost:8080/"
        },
        "id": "8AbDdN89twge",
        "outputId": "74e41f36-c51a-4748-a8a9-e4ce42367f35"
      },
      "execution_count": null,
      "outputs": [
        {
          "output_type": "stream",
          "name": "stdout",
          "text": [
            "Meilleur modèle Random Forest enregistré comme 'best_digit_recognition_model.rds'.\n"
          ]
        }
      ]
    }
  ]
}